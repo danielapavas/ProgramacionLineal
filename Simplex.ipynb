{
  "nbformat": 4,
  "nbformat_minor": 0,
  "metadata": {
    "colab": {
      "provenance": [],
      "include_colab_link": true
    },
    "kernelspec": {
      "name": "python3",
      "display_name": "Python 3"
    },
    "language_info": {
      "name": "python"
    }
  },
  "cells": [
    {
      "cell_type": "markdown",
      "metadata": {
        "id": "view-in-github",
        "colab_type": "text"
      },
      "source": [
        "<a href=\"https://colab.research.google.com/github/danielapavas/ProgramacionLineal/blob/main/Simplex.ipynb\" target=\"_parent\"><img src=\"https://colab.research.google.com/assets/colab-badge.svg\" alt=\"Open In Colab\"/></a>"
      ]
    },
    {
      "cell_type": "markdown",
      "source": [
        "# DANIELA ANDREA PAVAS BEDOYA\n",
        "# YULY YESENIA ALVEAR ROMO"
      ],
      "metadata": {
        "id": "oj7jLjDo_gZ2"
      }
    },
    {
      "cell_type": "code",
      "source": [
        "pip install pulp"
      ],
      "metadata": {
        "colab": {
          "base_uri": "https://localhost:8080/"
        },
        "id": "N4oYoLb1DY0h",
        "outputId": "cee7e389-fdc1-4d31-b1e9-94f34c07a587"
      },
      "execution_count": 10,
      "outputs": [
        {
          "output_type": "stream",
          "name": "stdout",
          "text": [
            "Requirement already satisfied: pulp in /usr/local/lib/python3.10/dist-packages (2.7.0)\n"
          ]
        }
      ]
    },
    {
      "cell_type": "code",
      "source": [
        "import pulp\n",
        "import re"
      ],
      "metadata": {
        "id": "XHsqhFB_zbOJ"
      },
      "execution_count": 11,
      "outputs": []
    },
    {
      "cell_type": "code",
      "execution_count": 12,
      "metadata": {
        "id": "016g1vSClwOf",
        "colab": {
          "base_uri": "https://localhost:8080/"
        },
        "outputId": "fc57d064-f143-4a1b-b4ff-8f0bbde46656"
      },
      "outputs": [
        {
          "name": "stdout",
          "output_type": "stream",
          "text": [
            "Ingrese el número de variables: 2\n"
          ]
        }
      ],
      "source": [
        "#Solicitar el número de variables\n",
        "num_variables = int(input(\"Ingrese el número de variables: \"))"
      ]
    },
    {
      "cell_type": "code",
      "source": [
        "# Crear variables de decisión\n",
        "variables = [pulp.LpVariable(f'x{i}', lowBound=0) for i in range(num_variables)]"
      ],
      "metadata": {
        "id": "i-zjtkIvwYP_"
      },
      "execution_count": 13,
      "outputs": []
    },
    {
      "cell_type": "code",
      "source": [
        "#  Solicitar  la función objetivo\n",
        "print(\"Ingrese la función objetivo en términos de las variables. Por ejemplo, '2*x0 + 3*x1':\")\n",
        "objetivo_str = input(\"Función objetivo: \")\n",
        "terms = re.split(r'\\s*\\+\\s*', objetivo_str)\n",
        "objetivo = pulp.LpAffineExpression()\n",
        "for term in terms:\n",
        "    coef, var = term.split('*')\n",
        "    coef = float(coef)\n",
        "    if any(v.name == var for v in variables):\n",
        "        variable = next(v for v in variables if v.name == var)\n",
        "        objetivo += coef * variable\n",
        "    else:\n",
        "        print(f\"La variable '{var}' no coincide con las variables definidas.\")\n",
        "\n",
        "# Imprimir la expresión lineal objetivo\n",
        "print(\"Función objetivo:\", objetivo)\n"
      ],
      "metadata": {
        "colab": {
          "base_uri": "https://localhost:8080/"
        },
        "id": "QtZpzNF8wdj2",
        "outputId": "987868f2-a7be-4d7b-aadb-f792f00b6ef6"
      },
      "execution_count": 14,
      "outputs": [
        {
          "output_type": "stream",
          "name": "stdout",
          "text": [
            "Ingrese la función objetivo en términos de las variables. Por ejemplo, '2*x0 + 3*x1':\n",
            "Función objetivo: 3*x0 + 5*x1\n",
            "Función objetivo: 3.0*x0 + 5.0*x1\n"
          ]
        }
      ]
    },
    {
      "cell_type": "code",
      "source": [
        "\n",
        "num_restricciones = int(input(\"Ingrese el número de restricciones: \"))\n",
        "\n",
        "var_dict = {v.name: v for v in variables}\n",
        "\n",
        "restricciones = []\n",
        "for i in range(num_restricciones):\n",
        "    restriccion_str = input(f\"Ingrese la restricción {i + 1} en términos de las variables (por ejemplo, 'x0+x1 <= 5'): \")\n",
        "\n",
        "    restriccion_str = re.sub(r'x\\d+', lambda x: f'var_dict[\"{x.group(0)}\"]', restriccion_str)\n",
        "\n",
        "    # Analizar la restricción\n",
        "    restriccion_parts = re.split(r'\\s+', restriccion_str)\n",
        "\n",
        "    if len(restriccion_parts) != 3:\n",
        "        print(f\"La restricción '{restriccion_str}' no está en el formato correcto.\")\n",
        "    else:\n",
        "        var1, op, rhs = restriccion_parts\n",
        "\n",
        "        if op == \"<=\":\n",
        "            sense = pulp.LpConstraintLE\n",
        "        elif op == \">=\":\n",
        "            sense = pulp.LpConstraintGE\n",
        "        elif op == \"=\":\n",
        "            sense = pulp.LpConstraintEQ\n",
        "        else:\n",
        "            print(f\"Operador '{op}' no válido en la restricción.\")\n",
        "            continue\n",
        "\n",
        "        restriccion = pulp.LpConstraint(\n",
        "            e=eval(restriccion_str),\n",
        "            sense=sense,\n",
        "            rhs=float(rhs),\n",
        "            name=f'Restricción_{i}'\n",
        "        )\n",
        "\n",
        "        restricciones.append(restriccion)"
      ],
      "metadata": {
        "id": "1uM6DheG5db2",
        "colab": {
          "base_uri": "https://localhost:8080/"
        },
        "outputId": "97aed409-e174-41ad-d164-8e8cd604a999"
      },
      "execution_count": 20,
      "outputs": [
        {
          "name": "stdout",
          "output_type": "stream",
          "text": [
            "Ingrese el número de restricciones: 3\n",
            "Ingrese la restricción 1 en términos de las variables (por ejemplo, 'x0+x1 <= 5'): x0 <= 4\n",
            "Ingrese la restricción 2 en términos de las variables (por ejemplo, 'x0+x1 <= 5'): 2*x1 <= 12\n",
            "Ingrese la restricción 3 en términos de las variables (por ejemplo, 'x0+x1 <= 5'): 3*x0+2*x1 <= 18\n"
          ]
        }
      ]
    },
    {
      "cell_type": "code",
      "source": [
        "problema = pulp.LpProblem(\"Problema\", pulp.LpMaximize)  # O maximizar según su caso\n",
        "problema.setObjective(objetivo)\n",
        "\n",
        "for restriccion in restricciones:\n",
        "    problema += restriccion"
      ],
      "metadata": {
        "id": "fB8XRXEw1WoL"
      },
      "execution_count": 21,
      "outputs": []
    },
    {
      "cell_type": "code",
      "source": [
        "problema.solve()"
      ],
      "metadata": {
        "colab": {
          "base_uri": "https://localhost:8080/"
        },
        "id": "bILiY_UX1Zyg",
        "outputId": "817c5528-339b-4b75-f825-19bbeee638b1"
      },
      "execution_count": 22,
      "outputs": [
        {
          "output_type": "execute_result",
          "data": {
            "text/plain": [
              "1"
            ]
          },
          "metadata": {},
          "execution_count": 22
        }
      ]
    },
    {
      "cell_type": "code",
      "source": [
        "print(\"Estado:\", pulp.LpStatus[problema.status])\n",
        "print(\"Valor óptimo de la función objetivo =\", pulp.value(problema.objective))\n",
        "for var in variables:\n",
        "    print(f\"Valor óptimo de {var.name} =\", var.varValue)\n"
      ],
      "metadata": {
        "colab": {
          "base_uri": "https://localhost:8080/"
        },
        "id": "PQ30S8Eh1dDG",
        "outputId": "78317597-4203-455e-a701-8d5f3e6d7357"
      },
      "execution_count": 23,
      "outputs": [
        {
          "output_type": "stream",
          "name": "stdout",
          "text": [
            "Estado: Optimal\n",
            "Valor óptimo de la función objetivo = 72.0\n",
            "Valor óptimo de x0 = 4.0\n",
            "Valor óptimo de x1 = 12.0\n"
          ]
        }
      ]
    }
  ]
}