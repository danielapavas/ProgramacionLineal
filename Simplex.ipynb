{
  "nbformat": 4,
  "nbformat_minor": 0,
  "metadata": {
    "colab": {
      "provenance": [],
      "include_colab_link": true
    },
    "kernelspec": {
      "name": "python3",
      "display_name": "Python 3"
    },
    "language_info": {
      "name": "python"
    }
  },
  "cells": [
    {
      "cell_type": "markdown",
      "metadata": {
        "id": "view-in-github",
        "colab_type": "text"
      },
      "source": [
        "<a href=\"https://colab.research.google.com/github/danielapavas/ProgramacionLineal/blob/main/Simplex.ipynb\" target=\"_parent\"><img src=\"https://colab.research.google.com/assets/colab-badge.svg\" alt=\"Open In Colab\"/></a>"
      ]
    },
    {
      "cell_type": "markdown",
      "source": [
        "# DANIELA ANDREA PAVAS BEDOYA\n",
        "# YULY YESENIA ALVEAR ROMO"
      ],
      "metadata": {
        "id": "oj7jLjDo_gZ2"
      }
    },
    {
      "cell_type": "code",
      "source": [
        "pip install pulp"
      ],
      "metadata": {
        "colab": {
          "base_uri": "https://localhost:8080/"
        },
        "id": "N4oYoLb1DY0h",
        "outputId": "44ff242e-cf2f-47e2-fc7d-883ad34a7514"
      },
      "execution_count": null,
      "outputs": [
        {
          "output_type": "stream",
          "name": "stdout",
          "text": [
            "Collecting pulp\n",
            "  Downloading PuLP-2.7.0-py3-none-any.whl (14.3 MB)\n",
            "\u001b[2K     \u001b[90m━━━━━━━━━━━━━━━━━━━━━━━━━━━━━━━━━━━━━━━━\u001b[0m \u001b[32m14.3/14.3 MB\u001b[0m \u001b[31m66.0 MB/s\u001b[0m eta \u001b[36m0:00:00\u001b[0m\n",
            "\u001b[?25hInstalling collected packages: pulp\n",
            "Successfully installed pulp-2.7.0\n"
          ]
        }
      ]
    },
    {
      "cell_type": "code",
      "source": [
        "import pulp\n",
        "import re\n",
        "import pandas as pd"
      ],
      "metadata": {
        "id": "XHsqhFB_zbOJ"
      },
      "execution_count": null,
      "outputs": []
    },
    {
      "cell_type": "code",
      "execution_count": null,
      "metadata": {
        "id": "016g1vSClwOf",
        "colab": {
          "base_uri": "https://localhost:8080/"
        },
        "outputId": "2ccef589-b2a3-4098-f7d7-8a1ff01d3982"
      },
      "outputs": [
        {
          "name": "stdout",
          "output_type": "stream",
          "text": [
            "Ingrese el número de variables: 2\n"
          ]
        }
      ],
      "source": [
        "#Solicitar el número de variables\n",
        "num_variables = int(input(\"Ingrese el número de variables: \"))"
      ]
    },
    {
      "cell_type": "code",
      "source": [
        "# Crear variables de decisión\n",
        "variables = [pulp.LpVariable(f'x{i}', lowBound=0) for i in range(num_variables)]"
      ],
      "metadata": {
        "id": "i-zjtkIvwYP_"
      },
      "execution_count": null,
      "outputs": []
    },
    {
      "cell_type": "code",
      "source": [
        "#  Solicitar  la función objetivo\n",
        "print(\"Ingrese la función objetivo en términos de las variables. Por ejemplo, '2*x0 + 3*x1':\")\n",
        "objetivo_str = input(\"Función objetivo: \")\n",
        "terms = re.split(r'\\s*\\+\\s*', objetivo_str)\n",
        "objetivo = pulp.LpAffineExpression()\n",
        "for term in terms:\n",
        "    coef, var = term.split('*')\n",
        "    coef = float(coef)\n",
        "    if any(v.name == var for v in variables):\n",
        "        variable = next(v for v in variables if v.name == var)\n",
        "        objetivo += coef * variable\n",
        "    else:\n",
        "        print(f\"La variable '{var}' no coincide con las variables definidas.\")\n",
        "\n",
        "# Imprimir la expresión lineal objetivo\n",
        "print(\"Función objetivo:\", objetivo)\n"
      ],
      "metadata": {
        "colab": {
          "base_uri": "https://localhost:8080/"
        },
        "id": "QtZpzNF8wdj2",
        "outputId": "eafa0ab8-4b75-4d13-b729-cc837f128af8"
      },
      "execution_count": null,
      "outputs": [
        {
          "output_type": "stream",
          "name": "stdout",
          "text": [
            "Ingrese la función objetivo en términos de las variables. Por ejemplo, '2*x0 + 3*x1':\n",
            "Función objetivo: 3*x0 + 5*x1\n",
            "Función objetivo: 3.0*x0 + 5.0*x1\n"
          ]
        }
      ]
    },
    {
      "cell_type": "code",
      "source": [
        "num_restricciones = int(input(\"Ingrese el número de restricciones: \"))\n",
        "\n",
        "var_dict = {v.name: v for v in variables}\n",
        "\n",
        "restricciones = []\n",
        "for i in range(num_restricciones):\n",
        "    restriccion_str = input(f\"Ingrese la restricción {i + 1} en términos de las variables (por ejemplo, 'x0+x1 <= 5'): \")\n",
        "\n",
        "    restriccion_str = re.sub(r'x\\d+', lambda x: f'var_dict[\"{x.group(0)}\"]', restriccion_str)\n",
        "\n",
        "    # Analizar la restricción\n",
        "    restriccion_parts = re.split(r'\\s+', restriccion_str)\n",
        "\n",
        "    if len(restriccion_parts) != 3:\n",
        "        print(f\"La restricción '{restriccion_str}' no está en el formato correcto.\")\n",
        "    else:\n",
        "        var1, op, rhs = restriccion_parts\n",
        "\n",
        "        if op == \"<=\":\n",
        "            sense = pulp.LpConstraintLE\n",
        "        elif op == \">=\":\n",
        "            sense = pulp.LpConstraintGE\n",
        "        elif op == \"=\":\n",
        "            sense = pulp.LpConstraintEQ\n",
        "        else:\n",
        "            print(f\"Operador '{op}' no válido en la restricción.\")\n",
        "            continue\n",
        "\n",
        "        restriccion = pulp.LpConstraint(\n",
        "            e=eval(restriccion_str),\n",
        "            sense=sense,\n",
        "            rhs=float(rhs),\n",
        "            name=f'Restricción_{i}'\n",
        "        )\n",
        "\n",
        "        restricciones.append(restriccion)"
      ],
      "metadata": {
        "id": "1uM6DheG5db2",
        "colab": {
          "base_uri": "https://localhost:8080/"
        },
        "outputId": "5fb4f9e2-42b5-4390-cd24-d39bb134dbf5"
      },
      "execution_count": null,
      "outputs": [
        {
          "name": "stdout",
          "output_type": "stream",
          "text": [
            "Ingrese el número de restricciones: 5\n",
            "Ingrese la restricción 1 en términos de las variables (por ejemplo, 'x0+x1 <= 5'): x0 <= 4\n",
            "Ingrese la restricción 2 en términos de las variables (por ejemplo, 'x0+x1 <= 5'): 2*x1 <= 12\n",
            "Ingrese la restricción 3 en términos de las variables (por ejemplo, 'x0+x1 <= 5'): 3*x0+2*x1 <= 18\n",
            "Ingrese la restricción 4 en términos de las variables (por ejemplo, 'x0+x1 <= 5'): x0 >= 0\n",
            "Ingrese la restricción 5 en términos de las variables (por ejemplo, 'x0+x1 <= 5'): x1 >= 0\n"
          ]
        }
      ]
    },
    {
      "cell_type": "code",
      "source": [
        "problema = pulp.LpProblem(\"Problema\", pulp.LpMaximize)  # O maximizar según su caso\n",
        "problema.setObjective(objetivo)\n",
        "\n",
        "for restriccion in restricciones:\n",
        "    problema += restriccion"
      ],
      "metadata": {
        "id": "fB8XRXEw1WoL"
      },
      "execution_count": null,
      "outputs": []
    },
    {
      "cell_type": "code",
      "source": [
        "problema.solve()"
      ],
      "metadata": {
        "colab": {
          "base_uri": "https://localhost:8080/"
        },
        "id": "bILiY_UX1Zyg",
        "outputId": "b4dd5fce-3d4c-4d13-a99d-735a97b7e380"
      },
      "execution_count": null,
      "outputs": [
        {
          "output_type": "execute_result",
          "data": {
            "text/plain": [
              "1"
            ]
          },
          "metadata": {},
          "execution_count": 11
        }
      ]
    },
    {
      "cell_type": "code",
      "source": [
        "print(\"Estado:\", pulp.LpStatus[problema.status])\n",
        "print(\"Valor óptimo de la función objetivo =\", pulp.value(problema.objective))\n",
        "for var in variables:\n",
        "    print(f\"Valor óptimo de {var.name} =\", var.varValue)\n"
      ],
      "metadata": {
        "colab": {
          "base_uri": "https://localhost:8080/"
        },
        "id": "PQ30S8Eh1dDG",
        "outputId": "955e01d0-f421-4913-8cfb-f642cdf16c6f"
      },
      "execution_count": null,
      "outputs": [
        {
          "output_type": "stream",
          "name": "stdout",
          "text": [
            "Estado: Optimal\n",
            "Valor óptimo de la función objetivo = 72.0\n",
            "Valor óptimo de x0 = 4.0\n",
            "Valor óptimo de x1 = 12.0\n"
          ]
        }
      ]
    },
    {
      "cell_type": "code",
      "source": [
        "# Guardar valores\n",
        "valor_objetivo_original = pulp.value(problema.objective)\n",
        "valor_x0_original = variables[0].varValue\n",
        "valor_x1_original = variables[1].varValue"
      ],
      "metadata": {
        "id": "0AIR6NAEaUwk"
      },
      "execution_count": null,
      "outputs": []
    },
    {
      "cell_type": "code",
      "source": [
        "# Analisi de sensibilidad al coeficiente x0 en la función objetivo\n",
        "coeficiente_x0_original = objetivo[variables[0]]\n",
        "objetivo[variables[0]] = 4.0"
      ],
      "metadata": {
        "id": "GC19AF9ZaVxv"
      },
      "execution_count": null,
      "outputs": []
    },
    {
      "cell_type": "code",
      "source": [
        "problema.solve()"
      ],
      "metadata": {
        "colab": {
          "base_uri": "https://localhost:8080/"
        },
        "id": "ghcuplTdaafV",
        "outputId": "43cd9430-0fb0-4432-8d52-34ebfb706892"
      },
      "execution_count": null,
      "outputs": [
        {
          "output_type": "execute_result",
          "data": {
            "text/plain": [
              "1"
            ]
          },
          "metadata": {},
          "execution_count": 16
        }
      ]
    },
    {
      "cell_type": "code",
      "source": [
        "valor_objetivo_nuevo = pulp.value(problema.objective)\n",
        "valor_x0_nuevo = variables[0].varValue\n",
        "valor_x1_nuevo = variables[1].varValue"
      ],
      "metadata": {
        "id": "aK5RGD9Yac_o"
      },
      "execution_count": null,
      "outputs": []
    },
    {
      "cell_type": "code",
      "source": [
        "# Comparar valores\n",
        "cambio_objetivo = valor_objetivo_nuevo - valor_objetivo_original\n",
        "cambio_x0 = valor_x0_nuevo - valor_x0_original\n",
        "cambio_x1 = valor_x1_nuevo - valor_x1_original\n",
        "\n",
        "print(f\"Cambio en el valor objetivo: {cambio_objetivo}\")\n",
        "print(f\"Cambio en x0: {cambio_x0}\")\n",
        "print(f\"Cambio en x1: {cambio_x1}\")"
      ],
      "metadata": {
        "colab": {
          "base_uri": "https://localhost:8080/"
        },
        "id": "VBwQYvc0b5Lr",
        "outputId": "a9f6ec91-499c-438a-a9c0-c1a27fa8cfa9"
      },
      "execution_count": null,
      "outputs": [
        {
          "output_type": "stream",
          "name": "stdout",
          "text": [
            "Cambio en el valor objetivo: 4.0\n",
            "Cambio en x0: 0.0\n",
            "Cambio en x1: 0.0\n"
          ]
        }
      ]
    },
    {
      "cell_type": "code",
      "source": [
        "# Restaurar\n",
        "objetivo[variables[0]] = coeficiente_x0_original"
      ],
      "metadata": {
        "id": "sV-QF-Fpafgm"
      },
      "execution_count": null,
      "outputs": []
    },
    {
      "cell_type": "code",
      "source": [
        "# Guardar nuevamente los valores\n",
        "valor_objetivo_original = pulp.value(problema.objective)\n",
        "valor_x0_original = variables[0].varValue\n",
        "valor_x1_original = variables[1].varValue"
      ],
      "metadata": {
        "id": "yZ9CYuOHaiAt"
      },
      "execution_count": null,
      "outputs": []
    },
    {
      "cell_type": "code",
      "source": [
        "problema.solve()"
      ],
      "metadata": {
        "colab": {
          "base_uri": "https://localhost:8080/"
        },
        "id": "1oKsKC1ReyMU",
        "outputId": "3310bed5-647f-4df0-e222-49a7ea505861"
      },
      "execution_count": null,
      "outputs": [
        {
          "output_type": "execute_result",
          "data": {
            "text/plain": [
              "1"
            ]
          },
          "metadata": {},
          "execution_count": 21
        }
      ]
    },
    {
      "cell_type": "code",
      "source": [
        "# Analisis de sensibilidad cambio en la restriccion\n",
        "valor_objetivo_original = pulp.value(problema.objective)"
      ],
      "metadata": {
        "id": "YFyUpRLTe4DH"
      },
      "execution_count": null,
      "outputs": []
    },
    {
      "cell_type": "code",
      "source": [
        "restricciones[0].rhs = 5"
      ],
      "metadata": {
        "id": "RENhHOLefDlK"
      },
      "execution_count": null,
      "outputs": []
    },
    {
      "cell_type": "code",
      "source": [
        "problema.solve()"
      ],
      "metadata": {
        "colab": {
          "base_uri": "https://localhost:8080/"
        },
        "id": "OEI-arGSfcGD",
        "outputId": "a44f41c3-dbdf-4dc4-ac17-1d69764236fd"
      },
      "execution_count": null,
      "outputs": [
        {
          "output_type": "execute_result",
          "data": {
            "text/plain": [
              "1"
            ]
          },
          "metadata": {},
          "execution_count": 24
        }
      ]
    },
    {
      "cell_type": "code",
      "source": [
        "valor_objetivo_nuevo = pulp.value(problema.objective)"
      ],
      "metadata": {
        "id": "etLWp3JHfhTz"
      },
      "execution_count": null,
      "outputs": []
    },
    {
      "cell_type": "code",
      "source": [
        "rango_de_sombra = valor_objetivo_nuevo - valor_objetivo_original"
      ],
      "metadata": {
        "id": "gTDeD2IMfk8M"
      },
      "execution_count": null,
      "outputs": []
    },
    {
      "cell_type": "code",
      "source": [
        "print(f\"Rango de sombra de la restricción: {rango_de_sombra}\")"
      ],
      "metadata": {
        "colab": {
          "base_uri": "https://localhost:8080/"
        },
        "id": "3DZtrpphf8w2",
        "outputId": "98035d08-069d-45ae-eaeb-d013b92609f7"
      },
      "execution_count": null,
      "outputs": [
        {
          "output_type": "stream",
          "name": "stdout",
          "text": [
            "Rango de sombra de la restricción: 0.0\n"
          ]
        }
      ]
    },
    {
      "cell_type": "code",
      "source": [
        "print(\"Estado:\", pulp.LpStatus[problema.status])\n",
        "print(\"Valor óptimo de la función objetivo =\", pulp.value(problema.objective)/2.0)\n",
        "for var in variables:\n",
        "    print(f\"Valor óptimo de {var.name} =\", var.varValue/2.0)"
      ],
      "metadata": {
        "colab": {
          "base_uri": "https://localhost:8080/"
        },
        "id": "eG2ZxGOdgxNK",
        "outputId": "1935ef7e-ccfb-45fa-efbb-63e8ab6a9102"
      },
      "execution_count": null,
      "outputs": [
        {
          "output_type": "stream",
          "name": "stdout",
          "text": [
            "Estado: Optimal\n",
            "Valor óptimo de la función objetivo = 36.0\n",
            "Valor óptimo de x0 = 2.0\n",
            "Valor óptimo de x1 = 6.0\n"
          ]
        }
      ]
    },
    {
      "cell_type": "code",
      "source": [
        "# Resturar\n",
        "coeficiente_x0_original = objetivo[variables[0]]\n",
        "objetivo[variables[0]] = coeficiente_x0_original\n",
        "\n",
        "restricciones[0].rhs = 4"
      ],
      "metadata": {
        "id": "mrhUZvjZgWOf"
      },
      "execution_count": null,
      "outputs": []
    },
    {
      "cell_type": "code",
      "source": [
        "# Analisis de sensibilidad  lado derecho de la primera restricción\n",
        "rhs_original = restricciones[0].rhs\n"
      ],
      "metadata": {
        "id": "2KxOdEMualfj"
      },
      "execution_count": null,
      "outputs": []
    },
    {
      "cell_type": "code",
      "source": [
        "restricciones[0].rhs = 5"
      ],
      "metadata": {
        "id": "Ly4Mf8AJhA4E"
      },
      "execution_count": null,
      "outputs": []
    },
    {
      "cell_type": "code",
      "source": [
        "problema.solve()"
      ],
      "metadata": {
        "colab": {
          "base_uri": "https://localhost:8080/"
        },
        "id": "Ov2rJjo4a1Gp",
        "outputId": "7bb46d76-99b9-4986-9a9b-cb8222f39e48"
      },
      "execution_count": null,
      "outputs": [
        {
          "output_type": "execute_result",
          "data": {
            "text/plain": [
              "1"
            ]
          },
          "metadata": {},
          "execution_count": 32
        }
      ]
    },
    {
      "cell_type": "code",
      "source": [
        "valor_objetivo_nuevo = pulp.value(problema.objective)\n",
        "valor_x0_nuevo = variables[0].varValue\n",
        "valor_x1_nuevo = variables[1].varValue"
      ],
      "metadata": {
        "id": "mSRt5WiNa3Ke"
      },
      "execution_count": null,
      "outputs": []
    },
    {
      "cell_type": "code",
      "source": [
        "# Comparar valores\n",
        "cambio_objetivo = valor_objetivo_nuevo - valor_objetivo_original\n",
        "cambio_x0 = valor_x0_nuevo - valor_x0_original\n",
        "cambio_x1 = valor_x1_nuevo - valor_x1_original\n",
        "\n",
        "print(f\"Cambio en el valor objetivo: {cambio_objetivo}\")\n",
        "print(f\"Cambio en x0: {cambio_x0}\")\n",
        "print(f\"Cambio en x1: {cambio_x1}\")"
      ],
      "metadata": {
        "colab": {
          "base_uri": "https://localhost:8080/"
        },
        "id": "Eh0a1v7oa3yG",
        "outputId": "bfaedc7e-6e93-4fe8-f55b-c8eab8b67f10"
      },
      "execution_count": null,
      "outputs": [
        {
          "output_type": "stream",
          "name": "stdout",
          "text": [
            "Cambio en el valor objetivo: 0.0\n",
            "Cambio en x0: 0.0\n",
            "Cambio en x1: 0.0\n"
          ]
        }
      ]
    },
    {
      "cell_type": "code",
      "source": [
        "problema.solve()"
      ],
      "metadata": {
        "colab": {
          "base_uri": "https://localhost:8080/"
        },
        "id": "rD4PfdW31NmB",
        "outputId": "37212099-7a34-4017-fd04-b1844cdacd95"
      },
      "execution_count": null,
      "outputs": [
        {
          "output_type": "execute_result",
          "data": {
            "text/plain": [
              "1"
            ]
          },
          "metadata": {},
          "execution_count": 38
        }
      ]
    },
    {
      "cell_type": "code",
      "source": [
        "print(\"Estado:\", pulp.LpStatus[problema.status])\n",
        "print(\"Valor óptimo de la función objetivo =\", pulp.value(problema.objective))\n",
        "for var in variables:\n",
        "    print(f\"Valor óptimo de {var.name} =\", var.varValue)"
      ],
      "metadata": {
        "colab": {
          "base_uri": "https://localhost:8080/"
        },
        "id": "yeSqHkrA1Sds",
        "outputId": "db5d77cf-ed49-48fe-f326-ad6f9a5c4698"
      },
      "execution_count": null,
      "outputs": [
        {
          "output_type": "stream",
          "name": "stdout",
          "text": [
            "Estado: Optimal\n",
            "Valor óptimo de la función objetivo = 76.0\n",
            "Valor óptimo de x0 = 4.0\n",
            "Valor óptimo de x1 = 12.0\n"
          ]
        }
      ]
    },
    {
      "cell_type": "code",
      "source": [
        "print(\"\\nAnálisis de sensibilidad:\")\n",
        "for var in variables:\n",
        "    print(f\"\\nRecurso: {var.name}\")\n",
        "    print(f\"Rango en el que puede cambiar el recurso y mantener la solución factible: [{var.lowBound}, {var.upBound}]\")\n",
        "    print(f\"Valor actual del recurso: {var.varValue}\")"
      ],
      "metadata": {
        "colab": {
          "base_uri": "https://localhost:8080/"
        },
        "id": "z1t2CzKZ1Uvg",
        "outputId": "707cc051-dc1e-48f0-ae16-b06a3856aea2"
      },
      "execution_count": null,
      "outputs": [
        {
          "output_type": "stream",
          "name": "stdout",
          "text": [
            "\n",
            "Análisis de sensibilidad:\n",
            "\n",
            "Recurso: x0\n",
            "Rango en el que puede cambiar el recurso y mantener la solución factible: [0, None]\n",
            "Valor actual del recurso: 4.0\n",
            "\n",
            "Recurso: x1\n",
            "Rango en el que puede cambiar el recurso y mantener la solución factible: [0, None]\n",
            "Valor actual del recurso: 12.0\n"
          ]
        }
      ]
    },
    {
      "cell_type": "code",
      "source": [
        "# Crear un DataFrame para almacenar los resultados\n",
        "resultados_df = pd.DataFrame(columns=[\"Variable\", \"Coeficiente\", \"RHS\", \"Cambio en Objetivo\"] +\n",
        "                                     [f\"Cambio en {var.name}\" for var in variables])\n",
        "\n",
        "# Función para realizar el análisis de sensibilidad y agregar resultados al DataFrame\n",
        "def agregar_resultado(variable, coeficiente, rhs, cambio_objetivo, cambios_variables):\n",
        "    resultados_df.loc[len(resultados_df)] = [variable, coeficiente, rhs, cambio_objetivo] + cambios_variables\n",
        "\n",
        "# Almacenar expresiones originales de restricciones\n",
        "expresiones_originales = [restriccion.copy() for restriccion in restricciones]\n",
        "\n",
        "# Analizar sensibilidad para cada variable y restricción\n",
        "for var in variables:\n",
        "    # Guardar valores originales de la variable\n",
        "    valor_original = var.varValue\n",
        "\n",
        "    # Analizar sensibilidad al coeficiente de la variable en la función objetivo\n",
        "    coeficiente_original = objetivo[var]\n",
        "    objetivo[var] = 4.0\n",
        "    problema.solve()\n",
        "    valor_nuevo = var.varValue\n",
        "    cambio_objetivo = pulp.value(problema.objective) - valor_objetivo_original\n",
        "    cambios_variables = [var_nuevo - valor_original for var_nuevo, valor_original in zip([var.varValue for var in variables], [valor_original for _ in variables])]\n",
        "    agregar_resultado(var.name, coeficiente_original, None, cambio_objetivo, cambios_variables)\n",
        "\n",
        "    # Restaurar valores originales\n",
        "    objetivo[var] = coeficiente_original\n",
        "\n",
        "# Analizar sensibilidad para cada restricción\n",
        "for i, restriccion in enumerate(restricciones):\n",
        "    # Guardar expresión original de la restricción\n",
        "    restricciones[i] = expresiones_originales[i]\n",
        "\n",
        "    # Analizar sensibilidad al lado derecho de la restricción\n",
        "    restricciones[i].rhs = 5\n",
        "    problema.solve()\n",
        "    cambio_objetivo = pulp.value(problema.objective) - valor_objetivo_original\n",
        "    cambios_variables = [var.varValue - valor_original for var, valor_original in zip(variables, [valor_original for _ in variables])]\n",
        "    agregar_resultado(f\"Restricción_{i + 1}\", None, restricciones[i].rhs, cambio_objetivo, cambios_variables)\n",
        "\n",
        "    # Restaurar expresión original\n",
        "    restricciones[i] = expresiones_originales[i]\n",
        "\n",
        "# Mostrar los resultados en forma tabular\n",
        "print(resultados_df)\n"
      ],
      "metadata": {
        "colab": {
          "base_uri": "https://localhost:8080/"
        },
        "id": "uV73y5n95c_v",
        "outputId": "1309898e-b415-40fc-8150-1312ac9d34ca"
      },
      "execution_count": null,
      "outputs": [
        {
          "output_type": "stream",
          "name": "stdout",
          "text": [
            "        Variable  Coeficiente   RHS  Cambio en Objetivo  Cambio en x0  \\\n",
            "0             x0          4.0  None                 4.0           0.0   \n",
            "1             x1          5.0  None                -8.0          -8.0   \n",
            "2  Restricción_1          NaN     5                 4.0          -8.0   \n",
            "3  Restricción_2          NaN     5                 4.0          -8.0   \n",
            "4  Restricción_3          NaN     5                 4.0          -8.0   \n",
            "5  Restricción_4          NaN     5                 4.0          -8.0   \n",
            "6  Restricción_5          NaN     5                 4.0          -8.0   \n",
            "\n",
            "   Cambio en x1  \n",
            "0           8.0  \n",
            "1           0.0  \n",
            "2           0.0  \n",
            "3           0.0  \n",
            "4           0.0  \n",
            "5           0.0  \n",
            "6           0.0  \n"
          ]
        }
      ]
    },
    {
      "cell_type": "code",
      "source": [
        "print(\"Estado:\", pulp.LpStatus[problema.status])\n",
        "print(\"Valor óptimo de la función objetivo =\", pulp.value(problema.objective)/2.0)\n",
        "for var in variables:\n",
        "    print(f\"Valor óptimo de {var.name} =\", var.varValue/2.0)"
      ],
      "metadata": {
        "colab": {
          "base_uri": "https://localhost:8080/"
        },
        "id": "EQABfiKM80A6",
        "outputId": "8a0d17ba-f7b1-48c1-8cff-15a8948f03d8"
      },
      "execution_count": null,
      "outputs": [
        {
          "output_type": "stream",
          "name": "stdout",
          "text": [
            "Estado: Optimal\n",
            "Valor óptimo de la función objetivo = 38.0\n",
            "Valor óptimo de x0 = 2.0\n",
            "Valor óptimo de x1 = 6.0\n"
          ]
        }
      ]
    },
    {
      "cell_type": "code",
      "source": [
        "    resultado_iteracion = {'Iteración': i + 1}\n",
        "    for var in variables:\n",
        "        resultado_iteracion[f'Valor actual de {var.name}'] = var.varValue\n",
        "    resultado_iteracion['Valor óptimo de la función objetivo'] = pulp.value(problema_copia.objective)\n",
        "\n",
        "    resultados_analisis.append(resultado_iteracion)"
      ],
      "metadata": {
        "id": "BJNTBswx8287"
      },
      "execution_count": null,
      "outputs": []
    },
    {
      "cell_type": "code",
      "source": [
        "df_resultados = pd.DataFrame(resultados_analisis)\n",
        "print(\"\\nAnálisis de Sensibilidad en Forma de Tabla:\")\n",
        "print(df_resultados)\n",
        "\n",
        "print(\"\\nAnálisis de sensibilidad:\")\n",
        "for var in variables:\n",
        "    print(f\"\\nRecurso: {var.name}\")\n",
        "    print(f\"Rango en el que puede cambiar el recurso y mantener la solución factible: [0, {var.upBound}]\")\n",
        "    print(f\"Valor actual del recurso: {var.varValue}\")"
      ],
      "metadata": {
        "colab": {
          "base_uri": "https://localhost:8080/"
        },
        "id": "ypbYeLns9sjY",
        "outputId": "c8e88498-9932-4c25-ae4c-d0cc85243c84"
      },
      "execution_count": null,
      "outputs": [
        {
          "output_type": "stream",
          "name": "stdout",
          "text": [
            "\n",
            "Análisis de Sensibilidad en Forma de Tabla:\n",
            "   Iteración  Valor actual de x0  Valor actual de x1  \\\n",
            "0          1                 4.0                12.0   \n",
            "\n",
            "   Valor óptimo de la función objetivo  \n",
            "0                                 76.0  \n",
            "\n",
            "Análisis de sensibilidad:\n",
            "\n",
            "Recurso: x0\n",
            "Rango en el que puede cambiar el recurso y mantener la solución factible: [0, None]\n",
            "Valor actual del recurso: 4.0\n",
            "\n",
            "Recurso: x1\n",
            "Rango en el que puede cambiar el recurso y mantener la solución factible: [0, None]\n",
            "Valor actual del recurso: 12.0\n"
          ]
        }
      ]
    },
    {
      "cell_type": "code",
      "source": [
        "resultados_analisis = []\n",
        "num_iteraciones = 10\n"
      ],
      "metadata": {
        "id": "82L9bD3aAMaL"
      },
      "execution_count": null,
      "outputs": []
    },
    {
      "cell_type": "code",
      "source": [
        "\n",
        "for i in range(num_iteraciones):\n",
        "    variables_copia = [pulp.LpVariable(f'x{i}', lowBound=0) for i in range(num_variables)]\n",
        "\n",
        "    objetivo_copia = objetivo.copy()\n",
        "    problema_copia = pulp.LpProblem(\"Problema_copia\", pulp.LpMaximize)\n",
        "    for restriccion in restricciones:\n",
        "\n",
        "        problema_copia += restriccion\n",
        "    problema_copia.setObjective(objetivo_copia)\n",
        "    problema_copia.solve()\n",
        "\n",
        "\n",
        "    resultado_iteracion = {'Iteración': i + 1}\n",
        "    for j, var in enumerate(variables_copia):\n",
        "        resultado_iteracion[f'Valor actual de {var.name}'] = var.varValue\n",
        "    resultado_iteracion['Valor óptimo de la función objetivo'] = pulp.value(problema_copia.objective)\n",
        "\n",
        "    resultados_analisis.append(resultado_iteracion)\n",
        "\n",
        "\n",
        "df_resultados = pd.DataFrame(resultados_analisis)\n",
        "\n",
        "# Mostrar la tabla de resultados\n",
        "print(\"\\nAnálisis de Sensibilidad en Forma de Tabla:\")\n",
        "print(df_resultados)"
      ],
      "metadata": {
        "colab": {
          "base_uri": "https://localhost:8080/"
        },
        "id": "83pkn1zVCbmI",
        "outputId": "dd2eb5a2-61ae-44f5-86d7-51c1a90efa76"
      },
      "execution_count": null,
      "outputs": [
        {
          "output_type": "stream",
          "name": "stdout",
          "text": [
            "\n",
            "Análisis de Sensibilidad en Forma de Tabla:\n",
            "    Iteración Valor actual de x0 Valor actual de x1  \\\n",
            "0           1               None               None   \n",
            "1           2               None               None   \n",
            "2           3               None               None   \n",
            "3           4               None               None   \n",
            "4           5               None               None   \n",
            "5           6               None               None   \n",
            "6           7               None               None   \n",
            "7           8               None               None   \n",
            "8           9               None               None   \n",
            "9          10               None               None   \n",
            "10          1               None               None   \n",
            "11          2               None               None   \n",
            "12          3               None               None   \n",
            "13          4               None               None   \n",
            "14          5               None               None   \n",
            "15          6               None               None   \n",
            "16          7               None               None   \n",
            "17          8               None               None   \n",
            "18          9               None               None   \n",
            "19         10               None               None   \n",
            "\n",
            "    Valor óptimo de la función objetivo  \n",
            "0                                  76.0  \n",
            "1                                  76.0  \n",
            "2                                  76.0  \n",
            "3                                  76.0  \n",
            "4                                  76.0  \n",
            "5                                  76.0  \n",
            "6                                  76.0  \n",
            "7                                  76.0  \n",
            "8                                  76.0  \n",
            "9                                  76.0  \n",
            "10                                 76.0  \n",
            "11                                 76.0  \n",
            "12                                 76.0  \n",
            "13                                 76.0  \n",
            "14                                 76.0  \n",
            "15                                 76.0  \n",
            "16                                 76.0  \n",
            "17                                 76.0  \n",
            "18                                 76.0  \n",
            "19                                 76.0  \n"
          ]
        }
      ]
    },
    {
      "cell_type": "code",
      "source": [
        "from pulp import LpProblem, LpVariable, lpSum, LpMaximize\n",
        "import pandas as pd\n",
        "\n",
        "prob = LpProblem(\"Maximizar_Objetivo\", LpMaximize)\n",
        "\n",
        "x0 = LpVariable(\"x0\", lowBound=0)\n",
        "x1 = LpVariable(\"x1\", lowBound=0)\n",
        "\n",
        "prob += 3.0 * x0 + 5.0 * x1, \"Objetivo\"\n",
        "\n",
        "prob += x0 <= 4, \"Restriccion_1\"\n",
        "prob += 2 * x1 <= 12, \"Restriccion_2\"\n",
        "prob += 3 * x0 + 2 * x1 <= 18, \"Restriccion_3\"\n",
        "\n",
        "# Resolver el problema\n",
        "prob.solve()\n",
        "\n",
        "print(f\"Estado: {prob.status}, Valor Objetivo: {prob.objective.value()}\")\n",
        "\n",
        "for v in prob.variables():\n",
        "    print(f\"{v.name}: {v.value()}\")\n",
        "\n",
        "# Realizar el análisis de sensibilidad\n",
        "datos_sensibilidad = []\n",
        "\n",
        "for nombre, c in prob.constraints.items():\n",
        "    precio_sombra = c.pi\n",
        "    excedente = c.slack\n",
        "\n",
        "    datos_sensibilidad.append({\n",
        "        \"Restriccion\": nombre,\n",
        "        \"Precio Sombra\": precio_sombra,\n",
        "        \"Excedente\": excedente,\n",
        "    })\n",
        "\n",
        "# Crear la tabla de sensibilidad utilizando Pandas\n",
        "tabla_sensibilidad = pd.DataFrame(datos_sensibilidad)\n",
        "print(\"\\nAnálisis de Sensibilidad:\")\n",
        "print(tabla_sensibilidad)"
      ],
      "metadata": {
        "colab": {
          "base_uri": "https://localhost:8080/"
        },
        "id": "QZcfCcQtScDD",
        "outputId": "2df67aa9-23f7-49f5-c890-b97bc8c7a147"
      },
      "execution_count": null,
      "outputs": [
        {
          "output_type": "stream",
          "name": "stdout",
          "text": [
            "Estado: 1, Valor Objetivo: 36.0\n",
            "x0: 2.0\n",
            "x1: 6.0\n",
            "\n",
            "Análisis de Sensibilidad:\n",
            "     Restriccion  Precio Sombra  Excedente\n",
            "0  Restriccion_1           -0.0        2.0\n",
            "1  Restriccion_2            1.5       -0.0\n",
            "2  Restriccion_3            1.0       -0.0\n"
          ]
        }
      ]
    },
    {
      "cell_type": "code",
      "source": [
        "from pulp import LpProblem, LpVariable, LpMaximize\n",
        "\n",
        "# Crear el problema de programación lineal\n",
        "prob = LpProblem(\"Maximizar_Objetivo\", LpMaximize)\n",
        "\n",
        "x0 = LpVariable(\"x0\", lowBound=0)\n",
        "x1 = LpVariable(\"x1\", lowBound=0)\n",
        "\n",
        "prob += 3.0 * x0 + 5.0 * x1, \"Objetivo\"\n",
        "\n",
        "prob += x0 <= 4, \"Restriccion_1\"\n",
        "prob += 2 * x1 <= 12, \"Restriccion_2\"\n",
        "prob += 3 * x0 + 2 * x1 <= 18, \"Restriccion_3\"\n",
        "\n",
        "prob.solve()\n",
        "\n",
        "# Mostrar los resultados iniciales\n",
        "print(f\"Estado: {prob.status}, Valor Objetivo: {prob.objective.value()}\")\n",
        "for v in prob.variables():\n",
        "    print(f\"{v.name}: {v.value()}\")\n",
        "\n",
        "# Realizar el análisis de sensibilidad (cambiar coeficientes de la función objetivo)\n",
        "datos_sensibilidad = []\n",
        "\n",
        "for coeficiente in [1.0, 2.0, 3.0, 4.0, 5.0]:\n",
        "    nueva_func_objetivo = 3.0 * coeficiente * x0 + 5.0 * x1\n",
        "    prob.objective = nueva_func_objetivo\n",
        "\n",
        "    prob.solve()\n",
        "    datos_sensibilidad.append({\n",
        "        \"Coeficiente_x0\": coeficiente,\n",
        "        \"Valor_Objetivo\": prob.objective.value(),\n",
        "        \"x0\": x0.value(),\n",
        "        \"x1\": x1.value(),\n",
        "    })\n",
        "\n",
        "# Crear la tabla de sensibilidad\n",
        "tabla_sensibilidad = pd.DataFrame(datos_sensibilidad)\n",
        "print(\"\\nAnálisis de Sensibilidad Cambiando Coeficiente de x0 en la Función Objetivo:\")\n",
        "print(tabla_sensibilidad)"
      ],
      "metadata": {
        "colab": {
          "base_uri": "https://localhost:8080/"
        },
        "id": "6ifSJLDaUhDH",
        "outputId": "64a4df4a-a263-40d7-b6e9-a274d5993f8e"
      },
      "execution_count": null,
      "outputs": [
        {
          "output_type": "stream",
          "name": "stdout",
          "text": [
            "Estado: 1, Valor Objetivo: 36.0\n",
            "x0: 2.0\n",
            "x1: 6.0\n",
            "\n",
            "Análisis de Sensibilidad Cambiando Coeficiente de x0 en la Función Objetivo:\n",
            "   Coeficiente_x0  Valor_Objetivo   x0   x1\n",
            "0             1.0            36.0  2.0  6.0\n",
            "1             2.0            42.0  2.0  6.0\n",
            "2             3.0            51.0  4.0  3.0\n",
            "3             4.0            63.0  4.0  3.0\n",
            "4             5.0            75.0  4.0  3.0\n"
          ]
        }
      ]
    }
  ]
}